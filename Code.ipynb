{
 "cells": [
  {
   "cell_type": "markdown",
   "metadata": {
    "toc": true
   },
   "source": [
    "<h1>Table of Contents<span class=\"tocSkip\"></span></h1>\n",
    "<div class=\"toc\"><ul class=\"toc-item\"><li><span><a href=\"#Vampire-numbers\" data-toc-modified-id=\"Vampire-numbers-1\"><span class=\"toc-item-num\">1&nbsp;&nbsp;</span>Vampire numbers</a></span></li></ul></div>"
   ]
  },
  {
   "cell_type": "markdown",
   "metadata": {},
   "source": [
    "# Vampire numbers"
   ]
  },
  {
   "cell_type": "markdown",
   "metadata": {},
   "source": [
    "A vampire number is any number which has a pair of factors whose digits (in base 10) match the digits in their product. For instance, 21×60=1260 , so we would say that 1260 is a vampire number. Find all the vampire numbers less than 1000000."
   ]
  },
  {
   "cell_type": "code",
   "execution_count": null,
   "metadata": {},
   "outputs": [],
   "source": [
    "x=input(\"Enter 1st number:\")\n",
    "y=input(\"Enter 2nd number:\")\n",
    "x=int(x)\n",
    "y=int(y)\n",
    "z=x*y\n",
    "x=str(x)\n",
    "y=str(y)\n",
    "z=str(z)\n",
    "\n",
    "k=0\n",
    "for b in x:\n",
    "    for a in z:\n",
    "        if (b==a):\n",
    "            k=k+1\n",
    "for c in y:\n",
    "    for a in z:\n",
    "        if (c==a):\n",
    "            k=k+1\n",
    "        \n",
    "if (k==len(z)):\n",
    "    print(\"vampire number\")\n",
    "else:\n",
    "    print(\"Not a Vampire Number\")\n"
   ]
  }
 ],
 "metadata": {
  "kernelspec": {
   "display_name": "Python 3",
   "language": "python",
   "name": "python3"
  },
  "language_info": {
   "codemirror_mode": {
    "name": "ipython",
    "version": 3
   },
   "file_extension": ".py",
   "mimetype": "text/x-python",
   "name": "python",
   "nbconvert_exporter": "python",
   "pygments_lexer": "ipython3",
   "version": "3.7.4"
  },
  "toc": {
   "base_numbering": 1,
   "nav_menu": {},
   "number_sections": true,
   "sideBar": true,
   "skip_h1_title": false,
   "title_cell": "Table of Contents",
   "title_sidebar": "Contents",
   "toc_cell": true,
   "toc_position": {},
   "toc_section_display": true,
   "toc_window_display": true
  }
 },
 "nbformat": 4,
 "nbformat_minor": 2
}
